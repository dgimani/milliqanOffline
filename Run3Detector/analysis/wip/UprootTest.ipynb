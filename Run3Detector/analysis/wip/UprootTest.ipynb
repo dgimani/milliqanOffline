{
 "cells": [
  {
   "cell_type": "code",
   "execution_count": 1,
   "id": "4c55aef7",
   "metadata": {},
   "outputs": [],
   "source": [
    "### Python with root"
   ]
  },
  {
   "cell_type": "code",
   "execution_count": null,
   "id": "f77dbf98",
   "metadata": {},
   "outputs": [
    {
     "name": "stdout",
     "output_type": "stream",
     "text": [
      "Running over 347000 events\n",
      "Running over 347000 events\n",
      "Running over 347000 events\n",
      "Running over 347000 events\n",
      "Running over 347000 events\n",
      "Running over 347000 events\n",
      "Running over 347000 events\n"
     ]
    }
   ],
   "source": [
    "%%timeit\n",
    "\n",
    "from ROOT import TChain, TFile, TH1F\n",
    "\n",
    "mychain = TChain(\"t\")\n",
    "mychain.Add(\"/store/user/mcarrigan/trees/v29/MilliQan_Run591.*_v29_firstPedestals.root\")\n",
    "\n",
    "h1 = TH1F(\"h1\", \"Area\", 100, 0, 100)\n",
    "\n",
    "for event in mychain:\n",
    "    area_v = event.area\n",
    "    for ia in area_v:\n",
    "        if ia < 100: continue\n",
    "        h1.Fill(ia)\n",
    "    \n",
    "\n",
    "print(\"Running over {0} events\".format(mychain.GetEntries()))"
   ]
  },
  {
   "cell_type": "code",
   "execution_count": 4,
   "id": "a1d4e76e",
   "metadata": {},
   "outputs": [],
   "source": [
    "### Python with uproot"
   ]
  },
  {
   "cell_type": "code",
   "execution_count": 2,
   "id": "762970cf",
   "metadata": {},
   "outputs": [
    {
     "name": "stderr",
     "output_type": "stream",
     "text": [
      "Warning in <TInterpreter::ReadRootmapFile>: class  edm::Wrapper<std::vector<bool> > found in libDataFormatsWrappedStdDictionaries.so  is already in libOSUT3AnalysisAnaTools.so \n",
      "Warning in <TInterpreter::ReadRootmapFile>: class  edm::Wrapper<vector<bool> > found in libDataFormatsWrappedStdDictionaries.so  is already in libOSUT3AnalysisAnaTools.so \n"
     ]
    },
    {
     "name": "stdout",
     "output_type": "stream",
     "text": [
      "Welcome to JupyROOT 6.24/07\n",
      "1min ± 298 ms per loop (mean ± std. dev. of 7 runs, 1 loop each)\n"
     ]
    }
   ],
   "source": [
    "%%timeit\n",
    "\n",
    "import uproot\n",
    "from ROOT import TH1F\n",
    "import numpy as np\n",
    "\n",
    "h1 = TH1F(\"h1\", \"Area\", 100, 0, 100)\n",
    "\n",
    "for array in uproot.iterate(\n",
    "    \"/store/user/mcarrigan/trees/v29/MilliQan_Run591.*_v29_firstPedestals.root:t\", \n",
    "    [\"area\"],\n",
    "    cut=\"area>100\",\n",
    "    step_size=100):\n",
    "    # each of the following have 100 entries\n",
    "    for a in array['area'][0]:\n",
    "        h1.Fill(a)\n"
   ]
  },
  {
   "cell_type": "code",
   "execution_count": 47,
   "id": "8c8156b5",
   "metadata": {},
   "outputs": [
    {
     "name": "stdout",
     "output_type": "stream",
     "text": [
      "52.1 s ± 189 ms per loop (mean ± std. dev. of 7 runs, 1 loop each)\n"
     ]
    }
   ],
   "source": [
    "%%timeit\n",
    "\n",
    "import uproot\n",
    "import numpy as np\n",
    "import matplotlib.pyplot as plt\n",
    "import matplotlib.pylab\n",
    "import hist\n",
    "\n",
    "h1 = hist.Hist.new.Reg(100, 0, 100, name=\"area\").Double()\n",
    "\n",
    "for array in uproot.iterate(\"/store/user/mcarrigan/trees/v29/MilliQan_Run591.*_v29_firstPedestals.root:t\", [\"area\"], step_size=100):\n",
    "    # each of the following have 100 entries\n",
    "    h1.fill(array['area'][0])\n"
   ]
  },
  {
   "cell_type": "code",
   "execution_count": 1,
   "id": "fea80e8b",
   "metadata": {},
   "outputs": [
    {
     "name": "stderr",
     "output_type": "stream",
     "text": [
      "Warning in <TInterpreter::ReadRootmapFile>: class  edm::Wrapper<std::vector<bool> > found in libDataFormatsWrappedStdDictionaries.so  is already in libOSUT3AnalysisAnaTools.so \n",
      "Warning in <TInterpreter::ReadRootmapFile>: class  edm::Wrapper<vector<bool> > found in libDataFormatsWrappedStdDictionaries.so  is already in libOSUT3AnalysisAnaTools.so \n"
     ]
    },
    {
     "name": "stdout",
     "output_type": "stream",
     "text": [
      "Welcome to JupyROOT 6.24/07\n",
      "45.1 s ± 134 ms per loop (mean ± std. dev. of 7 runs, 1 loop each)\n"
     ]
    }
   ],
   "source": [
    "%%timeit\n",
    "\n",
    "import uproot\n",
    "from ROOT import TH1F\n",
    "import numpy as np\n",
    "\n",
    "h1 = TH1F(\"h1\", \"Area\", 100, 0, 100)\n",
    "\n",
    "for array in uproot.iterate(\n",
    "    \"/store/user/mcarrigan/trees/v29/MilliQan_Run591.*_v29_firstPedestals.root:t\", \n",
    "    [\"area\"],\n",
    "    cut=\"area>100\",\n",
    "    num_workers=4,\n",
    "    step_size=1000):\n",
    "    # each of the following have 100 entries\n",
    "    for a in array['area'][0]:\n",
    "        h1.Fill(a)"
   ]
  },
  {
   "cell_type": "code",
   "execution_count": 3,
   "id": "4cb265c6",
   "metadata": {},
   "outputs": [
    {
     "name": "stdout",
     "output_type": "stream",
     "text": [
      "45 s ± 338 ms per loop (mean ± std. dev. of 7 runs, 1 loop each)\n"
     ]
    }
   ],
   "source": [
    "%%timeit\n",
    "\n",
    "##more workers\n",
    "\n",
    "import uproot\n",
    "from ROOT import TH1F\n",
    "import numpy as np\n",
    "\n",
    "h1 = TH1F(\"h1\", \"Area\", 100, 0, 100)\n",
    "\n",
    "for array in uproot.iterate(\n",
    "    \"/store/user/mcarrigan/trees/v29/MilliQan_Run591.*_v29_firstPedestals.root:t\", \n",
    "    [\"area\"],\n",
    "    cut=\"area>100\",\n",
    "    num_workers=10,\n",
    "    step_size=1000):\n",
    "    # each of the following have 100 entries\n",
    "    for a in array['area'][0]:\n",
    "        h1.Fill(a)"
   ]
  },
  {
   "cell_type": "code",
   "execution_count": null,
   "id": "8a89cd08",
   "metadata": {},
   "outputs": [],
   "source": []
  }
 ],
 "metadata": {
  "kernelspec": {
   "display_name": "Python 3 (ipykernel)",
   "language": "python",
   "name": "python3"
  },
  "language_info": {
   "codemirror_mode": {
    "name": "ipython",
    "version": 3
   },
   "file_extension": ".py",
   "mimetype": "text/x-python",
   "name": "python",
   "nbconvert_exporter": "python",
   "pygments_lexer": "ipython3",
   "version": "3.9.6"
  }
 },
 "nbformat": 4,
 "nbformat_minor": 5
}
