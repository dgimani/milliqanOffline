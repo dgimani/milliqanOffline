{
 "cells": [
  {
   "cell_type": "code",
   "execution_count": null,
   "id": "1567c595",
   "metadata": {},
   "outputs": [],
   "source": [
    "#1/28/2023\n",
    "#Collin ZHeng       zheng.1947@buckeyemail.osu.edu\n",
    "#This code is used for sorting data by time\n",
    "\n",
    "#Purpose: Based on the figure 4 in 'Search for millicharged particles in proton-proton collisions at srqt (s) = 13 TeV',\n",
    "# it claims the 'Beam muon' will take around -10ns(why) to 10 ns to passing through the milliqan detector.\n",
    "#With this specific range time, we can use it to extract some properties of beam muon like max(Npe)/min(Npe).\n",
    "#To -do: To achive this purpose, we can do the subtraction for ajacent pulse data base on 'time', \n",
    "#and then keep adding up the time(after subtraction) until the result is bigger than the range of time mentioned in the paper.\n",
    "#Mike suggested that it is acceptable to expand the 'range of time' (havn't done yet)"
   ]
  },
  {
   "cell_type": "code",
   "execution_count": 9,
   "id": "fcd9d18f",
   "metadata": {},
   "outputs": [],
   "source": [
    "import ROOT as r\n",
    "import numpy as np\n",
    "from ROOT import *\n"
   ]
  },
  {
   "cell_type": "code",
   "execution_count": 7,
   "id": "b73b96ef",
   "metadata": {},
   "outputs": [
    {
     "name": "stdout",
     "output_type": "stream",
     "text": [
      "index  time(ns)  layer      nPE    chan    area    duration     height   \n",
      "4      50.0     2    14432.255859375   74     14432.255859375     2507.489990234375     16.973735809326172\n",
      "1     902.5     2    2874.048095703125   35     2874.048095703125     182.489990234375     77.69953918457031\n",
      "0     1317.5     1    13.372377395629883   28     10697.90234375     257.489990234375     249.32778930664062\n",
      "2     1317.5     3    13.499902725219727   61     17549.873046875     254.989990234375     470.9924621582031\n",
      "3     1685.0     3    2.0418310165405273   63     1837.6478271484375     159.989990234375     52.669761657714844\n"
     ]
    }
   ],
   "source": [
    "\n",
    "chain = r.TChain(\"t\")\n",
    "chain.Add('/store/user/mcarrigan/trees/v29/MilliQan_Run591.*_v29_firstPedestals.root')\n",
    "chain.GetEntry(3189)\n",
    "e= chain.time\n",
    "#print(list(enumerate(e))\n",
    "sorted_time = sorted (enumerate(e),key=lambda x: x[1])   #return (index,time)\n",
    "#print(sorted_time)\n",
    "\n",
    "i = 0\n",
    "#the following table are for demostration only\n",
    "\n",
    "for index, time in sorted_time:\n",
    "\n",
    "    if i == 0:\n",
    "        print(\"index\" + \"  time(ns)  \" + \"layer  \" +   \"    nPE\" + \"    chan\" + \"    area\" +\"    duration\" + \n",
    "              \"     height   \")\n",
    "        print(str(index) + \"      \" + str(time) +  \"     \"  +  str(chain.layer[index]) + \"    \" + str(chain.nPE[index])\n",
    "             + \"   \"  +   str(chain.chan[index]) +\"     \" + str(chain.area[index]) +\"     \" +\n",
    "              str(chain.duration[index]) +\"     \" + str(chain.height[index]))\n",
    "        i += 1\n",
    "    else:\n",
    "        print(str(index) + \"     \" + str(time) + \"     \"  + str(chain.layer[index]) + \"    \" + str(chain.nPE[index])\n",
    "             + \"   \"  +   str(chain.chan[index]) + \"     \" + str(chain.area[index]) +\"     \" +\n",
    "              str(chain.duration[index]) +\"     \" + str(chain.height[index]))"
   ]
  },
  {
   "cell_type": "code",
   "execution_count": 25,
   "id": "ea34181a",
   "metadata": {},
   "outputs": [
    {
     "name": "stderr",
     "output_type": "stream",
     "text": [
      "Warning in <TCanvas::Constructor>: Deleting canvas with same name: c1\n",
      "Warning in <TROOT::Append>: Replacing existing TH1: h (Potential memory leak).\n"
     ]
    },
    {
     "data": {
      "image/png": "[encoded data removed]",
      "text/plain": [
       "<IPython.core.display.Image object>"
      ]
     },
     "metadata": {},
     "output_type": "display_data"
    }
   ],
   "source": [
    "entry = 0\n",
    "c1 = TCanvas(\"c1\",\"run 591 nPE\",10,10,600,600)\n",
    "h = TH1F(\"h\",\"run 591 nPE\",10000,0,160000)\n",
    "\n",
    "entry = 0\n",
    "\n",
    "while entry < chain.GetEntries():\n",
    "\n",
    "    chain.GetEntry(entry)\n",
    "    e= chain.time\n",
    "    sorted_time = sorted (enumerate(e),key=lambda x: x[1])   #return (index,time)\n",
    "    time = []\n",
    "    index_list = []\n",
    "    for index,t in sorted_time:\n",
    "        time.append(t)\n",
    "        index_list.append(index)\n",
    "    new_list = [y - x for x, y in zip(time[:], time[1:])]\n",
    "    #print(new_list)\n",
    "    new_list1 = [y + x for x, y in zip(new_list[:], new_list[1:])]\n",
    "    new_list2 = [y + x for x, y in zip(new_list1[:], new_list1[1:])] #need to fix this later\n",
    "    \n",
    "    \n",
    "    tTime = 50 #assuming it take 50ns for the beam muon to pass through 4 layers of bar detector. This should be change into a cut in the future\n",
    "    for i,t3layer in enumerate(new_list2):\n",
    "        if t3layer < tTime:\n",
    "            #time for passing through 3 layer from the end of first layer of bar detector to last layer of bar detector\n",
    "            #print(chain.layer[index_list[i]],chain.layer[index_list[i+1]],chain.layer[index_list[i+2]],chain.layer[index_list[i+3]])\n",
    "            #the pulse being register at specific layer\n",
    "            if chain.chan[index_list[i]] < 68 and chain.chan[index_list[i+1]] < 68 and chain.chan[index_list[i+2]] < 68 and chain.chan[index_list[i+3]] < 68:\n",
    "            #only focus on bar detector\n",
    "                lay1t = chain.layer[index_list[i]] #layer 1 \n",
    "                lay2t = chain.layer[index_list[i+1]]\n",
    "                lay3t = chain.layer[index_list[i+2]]\n",
    "                lay4t = chain.layer[index_list[i+3]]#layer 4\n",
    "            if lay1t == 0 and lay4t ==3 and lay1t < lay2t and lay2t < lay3t and lay3t < lay4t: #Mike suggest Change this into checking the time for three layers.\n",
    "                \n",
    "                #print(index_list)\n",
    "                #print(i)\n",
    "                \n",
    "            \n",
    "                #print(lay1t,lay2t,lay3t,lay4t)\n",
    "                #print(\"done\")\n",
    "                h.Fill(chain.nPE[index_list[i]])\n",
    "                h.Fill(chain.nPE[index_list[i+1]])\n",
    "                h.Fill(chain.nPE[index_list[i+2]])\n",
    "                h.Fill(chain.nPE[index_list[i+3]])\n",
    "                #print(entry)\n",
    "            \n",
    "    \n",
    "    \n",
    "    \n",
    "    \n",
    "    \n",
    "    entry += 1\n",
    "\n",
    "h.Draw()  \n",
    "c1.Draw()  "
   ]
  },
  {
   "cell_type": "code",
   "execution_count": null,
   "id": "98d6c5c1",
   "metadata": {},
   "outputs": [],
   "source": []
  }
 ],
 "metadata": {
  "kernelspec": {
   "display_name": "Python 3 (ipykernel)",
   "language": "python",
   "name": "python3"
  },
  "language_info": {
   "codemirror_mode": {
    "name": "ipython",
    "version": 3
   },
   "file_extension": ".py",
   "mimetype": "text/x-python",
   "name": "python",
   "nbconvert_exporter": "python",
   "pygments_lexer": "ipython3",
   "version": "3.9.6"
  }
 },
 "nbformat": 4,
 "nbformat_minor": 5
}
